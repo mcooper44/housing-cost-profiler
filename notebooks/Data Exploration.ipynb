{
 "cells": [
  {
   "cell_type": "code",
   "execution_count": 1,
   "id": "4e1cdb48",
   "metadata": {
    "scrolled": false
   },
   "outputs": [],
   "source": [
    "import pandas as pd\n",
    "import numpy as np"
   ]
  },
  {
   "cell_type": "code",
   "execution_count": 2,
   "id": "74473778",
   "metadata": {
    "scrolled": false
   },
   "outputs": [
    {
     "name": "stdout",
     "output_type": "stream",
     "text": [
      "\u001b[31mHousing.sqlite3\u001b[m\u001b[m*              \u001b[31mde-dupe.sh\u001b[m\u001b[m*\r\n",
      "Housing_Data_May_19_2024.csv  h_util.py\r\n",
      "LICENSE                       kijiji.py\r\n",
      "README.md                     \u001b[34mnotebooks\u001b[m\u001b[m/\r\n",
      "database.py                   \u001b[34msql\u001b[m\u001b[m/\r\n"
     ]
    }
   ],
   "source": [
    "%ls .."
   ]
  },
  {
   "cell_type": "code",
   "execution_count": 3,
   "id": "ecb36a75",
   "metadata": {
    "scrolled": false
   },
   "outputs": [],
   "source": [
    "hfile = pd.read_csv('../Housing_Data_May_19_2024.csv')"
   ]
  },
  {
   "cell_type": "code",
   "execution_count": 4,
   "id": "b588cf42",
   "metadata": {
    "scrolled": false
   },
   "outputs": [
    {
     "data": {
      "text/html": [
       "<div>\n",
       "<style scoped>\n",
       "    .dataframe tbody tr th:only-of-type {\n",
       "        vertical-align: middle;\n",
       "    }\n",
       "\n",
       "    .dataframe tbody tr th {\n",
       "        vertical-align: top;\n",
       "    }\n",
       "\n",
       "    .dataframe thead th {\n",
       "        text-align: right;\n",
       "    }\n",
       "</style>\n",
       "<table border=\"1\" class=\"dataframe\">\n",
       "  <thead>\n",
       "    <tr style=\"text-align: right;\">\n",
       "      <th></th>\n",
       "      <th>LID</th>\n",
       "      <th>StreetAddress</th>\n",
       "      <th>City</th>\n",
       "      <th>PCode</th>\n",
       "      <th>HType</th>\n",
       "      <th>Bedrooms</th>\n",
       "      <th>Bathrooms</th>\n",
       "      <th>Sqft</th>\n",
       "      <th>AgreeType</th>\n",
       "      <th>Price</th>\n",
       "      <th>Hydro</th>\n",
       "      <th>Water</th>\n",
       "      <th>Heat</th>\n",
       "      <th>DateString</th>\n",
       "    </tr>\n",
       "  </thead>\n",
       "  <tbody>\n",
       "    <tr>\n",
       "      <th>0</th>\n",
       "      <td>1673363360</td>\n",
       "      <td>Kitchener Rd</td>\n",
       "      <td>Cambridge</td>\n",
       "      <td>NaN</td>\n",
       "      <td>Apartment</td>\n",
       "      <td>2.0</td>\n",
       "      <td>1.0</td>\n",
       "      <td>850</td>\n",
       "      <td>1 Year</td>\n",
       "      <td>2195</td>\n",
       "      <td>1</td>\n",
       "      <td>1</td>\n",
       "      <td>1</td>\n",
       "      <td>2024-03-31</td>\n",
       "    </tr>\n",
       "    <tr>\n",
       "      <th>1</th>\n",
       "      <td>1673363360</td>\n",
       "      <td>Kitchener Rd</td>\n",
       "      <td>Cambridge</td>\n",
       "      <td>NaN</td>\n",
       "      <td>Apartment</td>\n",
       "      <td>2.0</td>\n",
       "      <td>1.0</td>\n",
       "      <td>850</td>\n",
       "      <td>1 Year</td>\n",
       "      <td>2195</td>\n",
       "      <td>1</td>\n",
       "      <td>1</td>\n",
       "      <td>1</td>\n",
       "      <td>2024-03-31</td>\n",
       "    </tr>\n",
       "    <tr>\n",
       "      <th>2</th>\n",
       "      <td>1673363360</td>\n",
       "      <td>Kitchener Rd</td>\n",
       "      <td>Cambridge</td>\n",
       "      <td>NaN</td>\n",
       "      <td>Apartment</td>\n",
       "      <td>2.0</td>\n",
       "      <td>1.0</td>\n",
       "      <td>850</td>\n",
       "      <td>1 Year</td>\n",
       "      <td>2195</td>\n",
       "      <td>1</td>\n",
       "      <td>1</td>\n",
       "      <td>1</td>\n",
       "      <td>2024-03-31</td>\n",
       "    </tr>\n",
       "    <tr>\n",
       "      <th>3</th>\n",
       "      <td>1673363360</td>\n",
       "      <td>Kitchener Rd</td>\n",
       "      <td>Cambridge</td>\n",
       "      <td>NaN</td>\n",
       "      <td>Apartment</td>\n",
       "      <td>2.0</td>\n",
       "      <td>1.0</td>\n",
       "      <td>850</td>\n",
       "      <td>1 Year</td>\n",
       "      <td>2195</td>\n",
       "      <td>1</td>\n",
       "      <td>1</td>\n",
       "      <td>1</td>\n",
       "      <td>2024-03-31</td>\n",
       "    </tr>\n",
       "    <tr>\n",
       "      <th>4</th>\n",
       "      <td>1689725742</td>\n",
       "      <td>John Carpenter Road North</td>\n",
       "      <td>North Dumfries</td>\n",
       "      <td>NaN</td>\n",
       "      <td>Townhouse</td>\n",
       "      <td>3.0</td>\n",
       "      <td>2.5</td>\n",
       "      <td>1800</td>\n",
       "      <td>1 Year</td>\n",
       "      <td>2700</td>\n",
       "      <td>-1</td>\n",
       "      <td>-1</td>\n",
       "      <td>-1</td>\n",
       "      <td>2024-03-31</td>\n",
       "    </tr>\n",
       "  </tbody>\n",
       "</table>\n",
       "</div>"
      ],
      "text/plain": [
       "          LID              StreetAddress            City PCode      HType  \\\n",
       "0  1673363360               Kitchener Rd       Cambridge   NaN  Apartment   \n",
       "1  1673363360               Kitchener Rd       Cambridge   NaN  Apartment   \n",
       "2  1673363360               Kitchener Rd       Cambridge   NaN  Apartment   \n",
       "3  1673363360               Kitchener Rd       Cambridge   NaN  Apartment   \n",
       "4  1689725742  John Carpenter Road North  North Dumfries   NaN  Townhouse   \n",
       "\n",
       "   Bedrooms  Bathrooms  Sqft AgreeType  Price  Hydro  Water  Heat  DateString  \n",
       "0       2.0        1.0   850    1 Year   2195      1      1     1  2024-03-31  \n",
       "1       2.0        1.0   850    1 Year   2195      1      1     1  2024-03-31  \n",
       "2       2.0        1.0   850    1 Year   2195      1      1     1  2024-03-31  \n",
       "3       2.0        1.0   850    1 Year   2195      1      1     1  2024-03-31  \n",
       "4       3.0        2.5  1800    1 Year   2700     -1     -1    -1  2024-03-31  "
      ]
     },
     "execution_count": 4,
     "metadata": {},
     "output_type": "execute_result"
    }
   ],
   "source": [
    "hfile.head()"
   ]
  },
  {
   "cell_type": "code",
   "execution_count": null,
   "id": "3b3f0236",
   "metadata": {
    "scrolled": false
   },
   "outputs": [],
   "source": [
    "nominal = ['City', 'PCode', 'HType', 'AgreeType']"
   ]
  },
  {
   "cell_type": "code",
   "execution_count": 6,
   "id": "54d6421f",
   "metadata": {
    "scrolled": false
   },
   "outputs": [
    {
     "name": "stdout",
     "output_type": "stream",
     "text": [
      "Apartment         0.458614\n",
      "House             0.322005\n",
      "Condo             0.122140\n",
      "Basement          0.054509\n",
      "Townhouse         0.032301\n",
      "Duplex/Triplex    0.007066\n",
      "room              0.003365\n",
      "Name: HType, dtype: float64\n"
     ]
    }
   ],
   "source": [
    "housing_type_prop = hfile['HType'].value_counts(normalize=True, dropna=False)\n",
    "print(housing_type_prop)"
   ]
  },
  {
   "cell_type": "code",
   "execution_count": null,
   "id": "5b9d6ecc",
   "metadata": {
    "scrolled": false
   },
   "outputs": [],
   "source": [
    "city_prop = hfile['City'].value_counts(normalize=True, dropna=False)\n",
    "print(city_prop)"
   ]
  },
  {
   "cell_type": "code",
   "execution_count": 8,
   "id": "de96a1f2",
   "metadata": {
    "scrolled": false
   },
   "outputs": [
    {
     "name": "stdout",
     "output_type": "stream",
     "text": [
      "1 Year            0.827389\n",
      "Month-to-month    0.157806\n",
      "Not Available     0.012113\n",
      "NaN               0.002692\n",
      "Name: AgreeType, dtype: float64\n"
     ]
    }
   ],
   "source": [
    "agree_prop = hfile['AgreeType'].value_counts(normalize=True, dropna=False)\n",
    "print(agree_prop)"
   ]
  },
  {
   "cell_type": "code",
   "execution_count": 17,
   "id": "aed13b30",
   "metadata": {
    "scrolled": true
   },
   "outputs": [
    {
     "name": "stdout",
     "output_type": "stream",
     "text": [
      "City       HType      Bedrooms\n",
      "Alma       House      3.0         2650.000000\n",
      "Arthur     Apartment  2.0         1633.333333\n",
      "Ayr        Apartment  1.0         1575.000000\n",
      "           House      4.0         3233.750000\n",
      "                      4.5         3500.000000\n",
      "                                     ...     \n",
      "Windsor    Apartment  1.0         1599.000000\n",
      "Woolwich   House      4.0         2999.000000\n",
      "Zeller     Basement   0.0         1450.000000\n",
      "kitchener  Apartment  1.0         1699.000000\n",
      "           House      3.0         2595.000000\n",
      "Name: Price, Length: 169, dtype: float64\n"
     ]
    }
   ],
   "source": [
    "city_type_br = hfile.groupby(['City', 'HType', 'Bedrooms'])['Price'].mean()\n",
    "print(city_type_br)"
   ]
  },
  {
   "cell_type": "code",
   "execution_count": null,
   "id": "d88081ce",
   "metadata": {
    "scrolled": false
   },
   "outputs": [],
   "source": []
  }
 ],
 "metadata": {
  "kernelspec": {
   "display_name": "Python 3 (ipykernel)",
   "language": "python",
   "name": "python3"
  },
  "language_info": {
   "codemirror_mode": {
    "name": "ipython",
    "version": 3
   },
   "file_extension": ".py",
   "mimetype": "text/x-python",
   "name": "python",
   "nbconvert_exporter": "python",
   "pygments_lexer": "ipython3",
   "version": "3.9.12"
  }
 },
 "nbformat": 4,
 "nbformat_minor": 5
}
